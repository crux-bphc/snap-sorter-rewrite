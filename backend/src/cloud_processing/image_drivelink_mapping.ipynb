{
  "cells": [
    {
      "cell_type": "markdown",
      "metadata": {},
      "source": [
        "RUN THIS ON COLAB"
      ]
    },
    {
      "cell_type": "code",
      "execution_count": null,
      "metadata": {
        "id": "WZdZsNXjGL7o"
      },
      "outputs": [],
      "source": [
        "import os\n",
        "from tqdm import tqdm"
      ]
    },
    {
      "cell_type": "markdown",
      "metadata": {
        "id": "dKwutlcSGYUi"
      },
      "source": [
        "This next part is to create metadata for the images that contains its name and its download link"
      ]
    },
    {
      "cell_type": "code",
      "execution_count": null,
      "metadata": {
        "id": "IpEe6Q_ZJeZ2"
      },
      "outputs": [],
      "source": [
        "!apt install xattr &>log"
      ]
    },
    {
      "cell_type": "code",
      "execution_count": null,
      "metadata": {
        "colab": {
          "base_uri": "https://localhost:8080/"
        },
        "id": "lVdXGwYEGgUP",
        "outputId": "0c58757b-6c3c-4387-b6e6-24454f0f5e97"
      },
      "outputs": [
        {
          "name": "stdout",
          "output_type": "stream",
          "text": [
            "12iISsFGyyIDAgnZQq8tfhvVEtaLTVBOQ\n"
          ]
        }
      ],
      "source": [
        "from subprocess import getoutput\n",
        "daypath = \"/content/drive/MyDrive/Colab Notebooks/snap-sorter/Batchsnaps’24/Day 2/24-70\"\n",
        "imgs = os.listdir(daypath)\n",
        "imgs_in_drive = [os.path.join(daypath, x) for x in imgs]\n",
        "image_id = getoutput(\"xattr -p 'user.drive.id' '%s'\" % '/content/drive/MyDrive/Colab Notebooks/snap-sorter/Batchsnaps’24/Day 2/24-70/750_6829.JPG')\n",
        "print(image_id)"
      ]
    },
    {
      "cell_type": "code",
      "execution_count": null,
      "metadata": {
        "colab": {
          "base_uri": "https://localhost:8080/"
        },
        "id": "d042wpiKJ-7i",
        "outputId": "0aea17be-5dba-4129-ed2e-db3a24bff47c"
      },
      "outputs": [
        {
          "name": "stdout",
          "output_type": "stream",
          "text": [
            "Gathering image file IDs\n"
          ]
        },
        {
          "name": "stderr",
          "output_type": "stream",
          "text": [
            "Retrieving Image IDs: 100%|██████████| 416/416 [00:43<00:00,  9.51it/s]"
          ]
        },
        {
          "name": "stdout",
          "output_type": "stream",
          "text": [
            "\n",
            "Saving data to csv\n"
          ]
        },
        {
          "name": "stderr",
          "output_type": "stream",
          "text": [
            "\n"
          ]
        }
      ],
      "source": [
        "from subprocess import getoutput\n",
        "import pandas as pd\n",
        "\n",
        "DAYPATH = \"/content/drive/MyDrive/Colab Notebooks/snap-sorter/Batchsnaps’24/Day 5 (cosplay)\"\n",
        "IMAGE_DATA_PATH = \"/content/drive/MyDrive/Colab Notebooks/snap-sorter/imagedata.csv\"\n",
        "image_paths = []\n",
        "\n",
        "for dirpath, dirnames, filenames in os.walk(DAYPATH):\n",
        "  for filename in filenames:\n",
        "    if filename.lower().endswith('.jpg'):\n",
        "      full_path = os.path.join(dirpath, filename)\n",
        "      image_paths.append(full_path)\n",
        "\n",
        "image_data = []\n",
        "print(\"Gathering image file IDs\")\n",
        "for image in tqdm(image_paths, desc=\"Retrieving Image IDs\"):\n",
        "    image_id = getoutput(f\"xattr -p 'user.drive.id' '{image}'\")\n",
        "    image_data.append({'image_name': os.path.basename(image), 'image_id': image_id})\n",
        "\n",
        "print(\"\\nSaving data to csv\")\n",
        "new_df = pd.DataFrame(image_data)\n",
        "\n",
        "if os.path.exists(IMAGE_DATA_PATH):\n",
        "    old_df = pd.read_csv(IMAGE_DATA_PATH)\n",
        "    combined_df = pd.concat([old_df, new_df], ignore_index=True)\n",
        "else:\n",
        "    combined_df = new_df\n",
        "\n",
        "combined_df.to_csv(IMAGE_DATA_PATH, index=False)"
      ]
    }
  ],
  "metadata": {
    "colab": {
      "provenance": []
    },
    "kernelspec": {
      "display_name": "Python 3",
      "name": "python3"
    },
    "language_info": {
      "name": "python"
    }
  },
  "nbformat": 4,
  "nbformat_minor": 0
}
