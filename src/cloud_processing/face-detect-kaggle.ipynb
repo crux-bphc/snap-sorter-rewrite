{
 "cells": [
  {
   "cell_type": "markdown",
   "id": "3fa6669e",
   "metadata": {},
   "source": [
    "RUN THIS ON KAGGLE"
   ]
  },
  {
   "cell_type": "code",
   "execution_count": 1,
   "id": "07251111",
   "metadata": {
    "execution": {
     "iopub.execute_input": "2024-10-23T17:15:32.764949Z",
     "iopub.status.busy": "2024-10-23T17:15:32.764189Z",
     "iopub.status.idle": "2024-10-23T17:17:59.776732Z",
     "shell.execute_reply": "2024-10-23T17:17:59.775779Z"
    },
    "papermill": {
     "duration": 147.02026,
     "end_time": "2024-10-23T17:17:59.779246",
     "exception": false,
     "start_time": "2024-10-23T17:15:32.758986",
     "status": "completed"
    },
    "tags": []
   },
   "outputs": [
    {
     "name": "stdout",
     "output_type": "stream",
     "text": [
      "Collecting facenet-pytorch\r\n",
      "  Downloading facenet_pytorch-2.6.0-py3-none-any.whl.metadata (12 kB)\r\n",
      "Requirement already satisfied: numpy<2.0.0,>=1.24.0 in /opt/conda/lib/python3.10/site-packages (from facenet-pytorch) (1.26.4)\r\n",
      "Collecting Pillow<10.3.0,>=10.2.0 (from facenet-pytorch)\r\n",
      "  Downloading pillow-10.2.0-cp310-cp310-manylinux_2_28_x86_64.whl.metadata (9.7 kB)\r\n",
      "Requirement already satisfied: requests<3.0.0,>=2.0.0 in /opt/conda/lib/python3.10/site-packages (from facenet-pytorch) (2.32.3)\r\n",
      "Collecting torch<2.3.0,>=2.2.0 (from facenet-pytorch)\r\n",
      "  Downloading torch-2.2.2-cp310-cp310-manylinux1_x86_64.whl.metadata (26 kB)\r\n",
      "Collecting torchvision<0.18.0,>=0.17.0 (from facenet-pytorch)\r\n",
      "  Downloading torchvision-0.17.2-cp310-cp310-manylinux1_x86_64.whl.metadata (6.6 kB)\r\n",
      "Requirement already satisfied: tqdm<5.0.0,>=4.0.0 in /opt/conda/lib/python3.10/site-packages (from facenet-pytorch) (4.66.4)\r\n",
      "Requirement already satisfied: charset-normalizer<4,>=2 in /opt/conda/lib/python3.10/site-packages (from requests<3.0.0,>=2.0.0->facenet-pytorch) (3.3.2)\r\n",
      "Requirement already satisfied: idna<4,>=2.5 in /opt/conda/lib/python3.10/site-packages (from requests<3.0.0,>=2.0.0->facenet-pytorch) (3.7)\r\n",
      "Requirement already satisfied: urllib3<3,>=1.21.1 in /opt/conda/lib/python3.10/site-packages (from requests<3.0.0,>=2.0.0->facenet-pytorch) (1.26.18)\r\n",
      "Requirement already satisfied: certifi>=2017.4.17 in /opt/conda/lib/python3.10/site-packages (from requests<3.0.0,>=2.0.0->facenet-pytorch) (2024.8.30)\r\n",
      "Requirement already satisfied: filelock in /opt/conda/lib/python3.10/site-packages (from torch<2.3.0,>=2.2.0->facenet-pytorch) (3.15.1)\r\n",
      "Requirement already satisfied: typing-extensions>=4.8.0 in /opt/conda/lib/python3.10/site-packages (from torch<2.3.0,>=2.2.0->facenet-pytorch) (4.12.2)\r\n",
      "Requirement already satisfied: sympy in /opt/conda/lib/python3.10/site-packages (from torch<2.3.0,>=2.2.0->facenet-pytorch) (1.13.3)\r\n",
      "Requirement already satisfied: networkx in /opt/conda/lib/python3.10/site-packages (from torch<2.3.0,>=2.2.0->facenet-pytorch) (3.3)\r\n",
      "Requirement already satisfied: jinja2 in /opt/conda/lib/python3.10/site-packages (from torch<2.3.0,>=2.2.0->facenet-pytorch) (3.1.4)\r\n",
      "Requirement already satisfied: fsspec in /opt/conda/lib/python3.10/site-packages (from torch<2.3.0,>=2.2.0->facenet-pytorch) (2024.6.1)\r\n",
      "Collecting nvidia-cuda-nvrtc-cu12==12.1.105 (from torch<2.3.0,>=2.2.0->facenet-pytorch)\r\n",
      "  Downloading nvidia_cuda_nvrtc_cu12-12.1.105-py3-none-manylinux1_x86_64.whl.metadata (1.5 kB)\r\n",
      "Collecting nvidia-cuda-runtime-cu12==12.1.105 (from torch<2.3.0,>=2.2.0->facenet-pytorch)\r\n",
      "  Downloading nvidia_cuda_runtime_cu12-12.1.105-py3-none-manylinux1_x86_64.whl.metadata (1.5 kB)\r\n",
      "Collecting nvidia-cuda-cupti-cu12==12.1.105 (from torch<2.3.0,>=2.2.0->facenet-pytorch)\r\n",
      "  Downloading nvidia_cuda_cupti_cu12-12.1.105-py3-none-manylinux1_x86_64.whl.metadata (1.6 kB)\r\n",
      "Collecting nvidia-cudnn-cu12==8.9.2.26 (from torch<2.3.0,>=2.2.0->facenet-pytorch)\r\n",
      "  Downloading nvidia_cudnn_cu12-8.9.2.26-py3-none-manylinux1_x86_64.whl.metadata (1.6 kB)\r\n",
      "Collecting nvidia-cublas-cu12==12.1.3.1 (from torch<2.3.0,>=2.2.0->facenet-pytorch)\r\n",
      "  Downloading nvidia_cublas_cu12-12.1.3.1-py3-none-manylinux1_x86_64.whl.metadata (1.5 kB)\r\n",
      "Collecting nvidia-cufft-cu12==11.0.2.54 (from torch<2.3.0,>=2.2.0->facenet-pytorch)\r\n",
      "  Downloading nvidia_cufft_cu12-11.0.2.54-py3-none-manylinux1_x86_64.whl.metadata (1.5 kB)\r\n",
      "Collecting nvidia-curand-cu12==10.3.2.106 (from torch<2.3.0,>=2.2.0->facenet-pytorch)\r\n",
      "  Downloading nvidia_curand_cu12-10.3.2.106-py3-none-manylinux1_x86_64.whl.metadata (1.5 kB)\r\n",
      "Collecting nvidia-cusolver-cu12==11.4.5.107 (from torch<2.3.0,>=2.2.0->facenet-pytorch)\r\n",
      "  Downloading nvidia_cusolver_cu12-11.4.5.107-py3-none-manylinux1_x86_64.whl.metadata (1.6 kB)\r\n",
      "Collecting nvidia-cusparse-cu12==12.1.0.106 (from torch<2.3.0,>=2.2.0->facenet-pytorch)\r\n",
      "  Downloading nvidia_cusparse_cu12-12.1.0.106-py3-none-manylinux1_x86_64.whl.metadata (1.6 kB)\r\n",
      "Collecting nvidia-nccl-cu12==2.19.3 (from torch<2.3.0,>=2.2.0->facenet-pytorch)\r\n",
      "  Downloading nvidia_nccl_cu12-2.19.3-py3-none-manylinux1_x86_64.whl.metadata (1.8 kB)\r\n",
      "Collecting nvidia-nvtx-cu12==12.1.105 (from torch<2.3.0,>=2.2.0->facenet-pytorch)\r\n",
      "  Downloading nvidia_nvtx_cu12-12.1.105-py3-none-manylinux1_x86_64.whl.metadata (1.7 kB)\r\n",
      "Collecting triton==2.2.0 (from torch<2.3.0,>=2.2.0->facenet-pytorch)\r\n",
      "  Downloading triton-2.2.0-cp310-cp310-manylinux_2_17_x86_64.manylinux2014_x86_64.whl.metadata (1.4 kB)\r\n",
      "Collecting nvidia-nvjitlink-cu12 (from nvidia-cusolver-cu12==11.4.5.107->torch<2.3.0,>=2.2.0->facenet-pytorch)\r\n",
      "  Downloading nvidia_nvjitlink_cu12-12.6.77-py3-none-manylinux2014_x86_64.whl.metadata (1.5 kB)\r\n",
      "Requirement already satisfied: MarkupSafe>=2.0 in /opt/conda/lib/python3.10/site-packages (from jinja2->torch<2.3.0,>=2.2.0->facenet-pytorch) (2.1.5)\r\n",
      "Requirement already satisfied: mpmath<1.4,>=1.1.0 in /opt/conda/lib/python3.10/site-packages (from sympy->torch<2.3.0,>=2.2.0->facenet-pytorch) (1.3.0)\r\n",
      "Downloading facenet_pytorch-2.6.0-py3-none-any.whl (1.9 MB)\r\n",
      "\u001b[2K   \u001b[90m━━━━━━━━━━━━━━━━━━━━━━━━━━━━━━━━━━━━━━━━\u001b[0m \u001b[32m1.9/1.9 MB\u001b[0m \u001b[31m23.5 MB/s\u001b[0m eta \u001b[36m0:00:00\u001b[0m\r\n",
      "\u001b[?25hDownloading pillow-10.2.0-cp310-cp310-manylinux_2_28_x86_64.whl (4.5 MB)\r\n",
      "\u001b[2K   \u001b[90m━━━━━━━━━━━━━━━━━━━━━━━━━━━━━━━━━━━━━━━━\u001b[0m \u001b[32m4.5/4.5 MB\u001b[0m \u001b[31m79.4 MB/s\u001b[0m eta \u001b[36m0:00:00\u001b[0m\r\n",
      "\u001b[?25hDownloading torch-2.2.2-cp310-cp310-manylinux1_x86_64.whl (755.5 MB)\r\n",
      "\u001b[2K   \u001b[90m━━━━━━━━━━━━━━━━━━━━━━━━━━━━━━━━━━━━━━━━\u001b[0m \u001b[32m755.5/755.5 MB\u001b[0m \u001b[31m2.2 MB/s\u001b[0m eta \u001b[36m0:00:00\u001b[0m\r\n",
      "\u001b[?25hDownloading nvidia_cublas_cu12-12.1.3.1-py3-none-manylinux1_x86_64.whl (410.6 MB)\r\n",
      "\u001b[2K   \u001b[90m━━━━━━━━━━━━━━━━━━━━━━━━━━━━━━━━━━━━━━━━\u001b[0m \u001b[32m410.6/410.6 MB\u001b[0m \u001b[31m3.8 MB/s\u001b[0m eta \u001b[36m0:00:00\u001b[0m\r\n",
      "\u001b[?25hDownloading nvidia_cuda_cupti_cu12-12.1.105-py3-none-manylinux1_x86_64.whl (14.1 MB)\r\n",
      "\u001b[2K   \u001b[90m━━━━━━━━━━━━━━━━━━━━━━━━━━━━━━━━━━━━━━━━\u001b[0m \u001b[32m14.1/14.1 MB\u001b[0m \u001b[31m80.0 MB/s\u001b[0m eta \u001b[36m0:00:00\u001b[0m\r\n",
      "\u001b[?25hDownloading nvidia_cuda_nvrtc_cu12-12.1.105-py3-none-manylinux1_x86_64.whl (23.7 MB)\r\n",
      "\u001b[2K   \u001b[90m━━━━━━━━━━━━━━━━━━━━━━━━━━━━━━━━━━━━━━━━\u001b[0m \u001b[32m23.7/23.7 MB\u001b[0m \u001b[31m64.2 MB/s\u001b[0m eta \u001b[36m0:00:00\u001b[0m\r\n",
      "\u001b[?25hDownloading nvidia_cuda_runtime_cu12-12.1.105-py3-none-manylinux1_x86_64.whl (823 kB)\r\n",
      "\u001b[2K   \u001b[90m━━━━━━━━━━━━━━━━━━━━━━━━━━━━━━━━━━━━━━━━\u001b[0m \u001b[32m823.6/823.6 kB\u001b[0m \u001b[31m39.4 MB/s\u001b[0m eta \u001b[36m0:00:00\u001b[0m\r\n",
      "\u001b[?25hDownloading nvidia_cudnn_cu12-8.9.2.26-py3-none-manylinux1_x86_64.whl (731.7 MB)\r\n",
      "\u001b[2K   \u001b[90m━━━━━━━━━━━━━━━━━━━━━━━━━━━━━━━━━━━━━━━━\u001b[0m \u001b[32m731.7/731.7 MB\u001b[0m \u001b[31m1.8 MB/s\u001b[0m eta \u001b[36m0:00:00\u001b[0m\r\n",
      "\u001b[?25hDownloading nvidia_cufft_cu12-11.0.2.54-py3-none-manylinux1_x86_64.whl (121.6 MB)\r\n",
      "\u001b[2K   \u001b[90m━━━━━━━━━━━━━━━━━━━━━━━━━━━━━━━━━━━━━━━━\u001b[0m \u001b[32m121.6/121.6 MB\u001b[0m \u001b[31m2.3 MB/s\u001b[0m eta \u001b[36m0:00:00\u001b[0m\r\n",
      "\u001b[?25hDownloading nvidia_curand_cu12-10.3.2.106-py3-none-manylinux1_x86_64.whl (56.5 MB)\r\n",
      "\u001b[2K   \u001b[90m━━━━━━━━━━━━━━━━━━━━━━━━━━━━━━━━━━━━━━━━\u001b[0m \u001b[32m56.5/56.5 MB\u001b[0m \u001b[31m5.3 MB/s\u001b[0m eta \u001b[36m0:00:00\u001b[0m\r\n",
      "\u001b[?25hDownloading nvidia_cusolver_cu12-11.4.5.107-py3-none-manylinux1_x86_64.whl (124.2 MB)\r\n",
      "\u001b[2K   \u001b[90m━━━━━━━━━━━━━━━━━━━━━━━━━━━━━━━━━━━━━━━━\u001b[0m \u001b[32m124.2/124.2 MB\u001b[0m \u001b[31m4.4 MB/s\u001b[0m eta \u001b[36m0:00:00\u001b[0m\r\n",
      "\u001b[?25hDownloading nvidia_cusparse_cu12-12.1.0.106-py3-none-manylinux1_x86_64.whl (196.0 MB)\r\n",
      "\u001b[2K   \u001b[90m━━━━━━━━━━━━━━━━━━━━━━━━━━━━━━━━━━━━━━━━\u001b[0m \u001b[32m196.0/196.0 MB\u001b[0m \u001b[31m8.1 MB/s\u001b[0m eta \u001b[36m0:00:00\u001b[0m\r\n",
      "\u001b[?25hDownloading nvidia_nccl_cu12-2.19.3-py3-none-manylinux1_x86_64.whl (166.0 MB)\r\n",
      "\u001b[2K   \u001b[90m━━━━━━━━━━━━━━━━━━━━━━━━━━━━━━━━━━━━━━━━\u001b[0m \u001b[32m166.0/166.0 MB\u001b[0m \u001b[31m9.6 MB/s\u001b[0m eta \u001b[36m0:00:00\u001b[0m\r\n",
      "\u001b[?25hDownloading nvidia_nvtx_cu12-12.1.105-py3-none-manylinux1_x86_64.whl (99 kB)\r\n",
      "\u001b[2K   \u001b[90m━━━━━━━━━━━━━━━━━━━━━━━━━━━━━━━━━━━━━━━━\u001b[0m \u001b[32m99.1/99.1 kB\u001b[0m \u001b[31m6.5 MB/s\u001b[0m eta \u001b[36m0:00:00\u001b[0m\r\n",
      "\u001b[?25hDownloading triton-2.2.0-cp310-cp310-manylinux_2_17_x86_64.manylinux2014_x86_64.whl (167.9 MB)\r\n",
      "\u001b[2K   \u001b[90m━━━━━━━━━━━━━━━━━━━━━━━━━━━━━━━━━━━━━━━━\u001b[0m \u001b[32m167.9/167.9 MB\u001b[0m \u001b[31m9.6 MB/s\u001b[0m eta \u001b[36m0:00:00\u001b[0m\r\n",
      "\u001b[?25hDownloading torchvision-0.17.2-cp310-cp310-manylinux1_x86_64.whl (6.9 MB)\r\n",
      "\u001b[2K   \u001b[90m━━━━━━━━━━━━━━━━━━━━━━━━━━━━━━━━━━━━━━━━\u001b[0m \u001b[32m6.9/6.9 MB\u001b[0m \u001b[31m85.0 MB/s\u001b[0m eta \u001b[36m0:00:00\u001b[0m\r\n",
      "\u001b[?25hDownloading nvidia_nvjitlink_cu12-12.6.77-py3-none-manylinux2014_x86_64.whl (19.7 MB)\r\n",
      "\u001b[2K   \u001b[90m━━━━━━━━━━━━━━━━━━━━━━━━━━━━━━━━━━━━━━━━\u001b[0m \u001b[32m19.7/19.7 MB\u001b[0m \u001b[31m74.1 MB/s\u001b[0m eta \u001b[36m0:00:00\u001b[0m\r\n",
      "\u001b[?25hInstalling collected packages: triton, Pillow, nvidia-nvtx-cu12, nvidia-nvjitlink-cu12, nvidia-nccl-cu12, nvidia-curand-cu12, nvidia-cufft-cu12, nvidia-cuda-runtime-cu12, nvidia-cuda-nvrtc-cu12, nvidia-cuda-cupti-cu12, nvidia-cublas-cu12, nvidia-cusparse-cu12, nvidia-cudnn-cu12, nvidia-cusolver-cu12, torch, torchvision, facenet-pytorch\r\n",
      "  Attempting uninstall: Pillow\r\n",
      "    Found existing installation: pillow 10.3.0\r\n",
      "    Uninstalling pillow-10.3.0:\r\n",
      "      Successfully uninstalled pillow-10.3.0\r\n",
      "  Attempting uninstall: torch\r\n",
      "    Found existing installation: torch 2.4.0\r\n",
      "    Uninstalling torch-2.4.0:\r\n",
      "      Successfully uninstalled torch-2.4.0\r\n",
      "  Attempting uninstall: torchvision\r\n",
      "    Found existing installation: torchvision 0.19.0\r\n",
      "    Uninstalling torchvision-0.19.0:\r\n",
      "      Successfully uninstalled torchvision-0.19.0\r\n",
      "\u001b[31mERROR: pip's dependency resolver does not currently take into account all the packages that are installed. This behaviour is the source of the following dependency conflicts.\r\n",
      "ydata-profiling 4.10.0 requires scipy<1.14,>=1.4.1, but you have scipy 1.14.1 which is incompatible.\u001b[0m\u001b[31m\r\n",
      "\u001b[0mSuccessfully installed Pillow-10.2.0 facenet-pytorch-2.6.0 nvidia-cublas-cu12-12.1.3.1 nvidia-cuda-cupti-cu12-12.1.105 nvidia-cuda-nvrtc-cu12-12.1.105 nvidia-cuda-runtime-cu12-12.1.105 nvidia-cudnn-cu12-8.9.2.26 nvidia-cufft-cu12-11.0.2.54 nvidia-curand-cu12-10.3.2.106 nvidia-cusolver-cu12-11.4.5.107 nvidia-cusparse-cu12-12.1.0.106 nvidia-nccl-cu12-2.19.3 nvidia-nvjitlink-cu12-12.6.77 nvidia-nvtx-cu12-12.1.105 torch-2.2.2 torchvision-0.17.2 triton-2.2.0\r\n"
     ]
    }
   ],
   "source": [
    "!pip install facenet-pytorch"
   ]
  },
  {
   "cell_type": "code",
   "execution_count": 2,
   "id": "510a1e0a",
   "metadata": {
    "execution": {
     "iopub.execute_input": "2024-10-23T17:17:59.949082Z",
     "iopub.status.busy": "2024-10-23T17:17:59.948692Z",
     "iopub.status.idle": "2024-10-23T17:18:02.008497Z",
     "shell.execute_reply": "2024-10-23T17:18:02.007672Z"
    },
    "papermill": {
     "duration": 2.14806,
     "end_time": "2024-10-23T17:18:02.010902",
     "exception": false,
     "start_time": "2024-10-23T17:17:59.862842",
     "status": "completed"
    },
    "tags": []
   },
   "outputs": [],
   "source": [
    "import os\n",
    "import cv2\n",
    "from tqdm import tqdm\n",
    "import shutil\n",
    "import torch"
   ]
  },
  {
   "cell_type": "code",
   "execution_count": 3,
   "id": "85f751bc",
   "metadata": {
    "execution": {
     "iopub.execute_input": "2024-10-23T17:18:02.173099Z",
     "iopub.status.busy": "2024-10-23T17:18:02.172202Z",
     "iopub.status.idle": "2024-10-23T17:18:04.295660Z",
     "shell.execute_reply": "2024-10-23T17:18:04.294850Z"
    },
    "papermill": {
     "duration": 2.207199,
     "end_time": "2024-10-23T17:18:04.298039",
     "exception": false,
     "start_time": "2024-10-23T17:18:02.090840",
     "status": "completed"
    },
    "tags": []
   },
   "outputs": [],
   "source": [
    "from facenet_pytorch import MTCNN"
   ]
  },
  {
   "cell_type": "code",
   "execution_count": 4,
   "id": "54ebf48f",
   "metadata": {
    "execution": {
     "iopub.execute_input": "2024-10-23T17:18:04.454734Z",
     "iopub.status.busy": "2024-10-23T17:18:04.453941Z",
     "iopub.status.idle": "2024-10-23T17:18:04.519806Z",
     "shell.execute_reply": "2024-10-23T17:18:04.518869Z"
    },
    "papermill": {
     "duration": 0.146201,
     "end_time": "2024-10-23T17:18:04.521964",
     "exception": false,
     "start_time": "2024-10-23T17:18:04.375763",
     "status": "completed"
    },
    "tags": []
   },
   "outputs": [
    {
     "data": {
      "text/plain": [
       "True"
      ]
     },
     "execution_count": 4,
     "metadata": {},
     "output_type": "execute_result"
    }
   ],
   "source": [
    "torch.cuda.is_available()"
   ]
  },
  {
   "cell_type": "code",
   "execution_count": 5,
   "id": "b8c718e4",
   "metadata": {
    "execution": {
     "iopub.execute_input": "2024-10-23T17:18:04.680669Z",
     "iopub.status.busy": "2024-10-23T17:18:04.679803Z",
     "iopub.status.idle": "2024-10-23T17:18:04.693966Z",
     "shell.execute_reply": "2024-10-23T17:18:04.693097Z"
    },
    "papermill": {
     "duration": 0.097122,
     "end_time": "2024-10-23T17:18:04.696184",
     "exception": false,
     "start_time": "2024-10-23T17:18:04.599062",
     "status": "completed"
    },
    "tags": []
   },
   "outputs": [],
   "source": [
    "class FaceDetector:\n",
    "    def __init__(self):\n",
    "        print(\"FaceDetector object initializing\")\n",
    "        self.device = torch.device('cuda' if torch.cuda.is_available() else 'cpu')\n",
    "        self.detector = MTCNN(keep_all=True, device=self.device)\n",
    "        print(\"FaceDetector initialized successfully\")\n",
    "\n",
    "    def detect_all_faces_and_save(self, directory, save_directory):\n",
    "        '''\n",
    "        Detects all faces in images in a given directory\n",
    "\n",
    "        Args:\n",
    "            directory: input directory of images\n",
    "            save_directory: directory where faces will be saved\n",
    "        '''\n",
    "        images = os.listdir(directory)\n",
    "        print(f\"Found {len(images)} images in {directory}\")\n",
    "\n",
    "        os.makedirs(save_directory, exist_ok=True)\n",
    "\n",
    "        for image in tqdm(images, desc=\"Processing images\"):\n",
    "            if not image.lower().endswith('.jpg'):\n",
    "                  tqdm.write(f\"Skipping non-jpg file: {image}\")\n",
    "                  continue\n",
    "            img_path = os.path.join(directory, image)\n",
    "            img = cv2.imread(img_path)\n",
    "\n",
    "            if img is None:\n",
    "                tqdm.write(f\"Failed to read {image}. Skipping.\")\n",
    "                continue\n",
    "            img_rgb = cv2.cvtColor(img, cv2.COLOR_BGR2RGB)\n",
    "\n",
    "            boxes, probs = self.detector.detect(img_rgb)\n",
    "\n",
    "            if boxes is None:\n",
    "                tqdm.write(f\"No faces detected in {image}\")\n",
    "                continue\n",
    "\n",
    "            #tqdm.write(f\"Detected {len(boxes)} faces in {image}\")\n",
    "\n",
    "            #save faces with confidence > 0.97\n",
    "            for i, (box, prob) in enumerate(zip(boxes, probs)):\n",
    "                if prob > 0.97:\n",
    "                    x1, y1, x2, y2 = [int(b) for b in box]\n",
    "                    face_img = img[y1:y2, x1:x2]\n",
    "                    if face_img.size > 0:\n",
    "                      face_filename = f\"{image}_face{i}_{prob:.2f}.jpg\"\n",
    "                      cv2.imwrite(os.path.join(save_directory, face_filename), face_img)\n",
    "\n",
    "                      #tqdm.write(f\"Face {i} in {image} with confidence {prob:.2f} saved successfully\")\n",
    "\n",
    "def face_detect(images_dir, save_face_dir):\n",
    "    face_detector = FaceDetector()\n",
    "    face_detector.detect_all_faces_and_save(images_dir, save_face_dir)"
   ]
  },
  {
   "cell_type": "code",
   "execution_count": 6,
   "id": "b690ed3e",
   "metadata": {
    "execution": {
     "iopub.execute_input": "2024-10-23T17:18:04.855263Z",
     "iopub.status.busy": "2024-10-23T17:18:04.854523Z",
     "iopub.status.idle": "2024-10-23T17:29:52.279634Z",
     "shell.execute_reply": "2024-10-23T17:29:52.278449Z"
    },
    "papermill": {
     "duration": 707.507099,
     "end_time": "2024-10-23T17:29:52.281997",
     "exception": false,
     "start_time": "2024-10-23T17:18:04.774898",
     "status": "completed"
    },
    "scrolled": true,
    "tags": []
   },
   "outputs": [
    {
     "name": "stdout",
     "output_type": "stream",
     "text": [
      "FaceDetector object initializing\n",
      "FaceDetector initialized successfully\n",
      "Found 416 images in /kaggle/input/batchsnaps-day-5\n"
     ]
    },
    {
     "name": "stderr",
     "output_type": "stream",
     "text": [
      "Processing images:  12%|█▎        | 52/416 [01:27<10:05,  1.66s/it]"
     ]
    },
    {
     "name": "stdout",
     "output_type": "stream",
     "text": [
      "No faces detected in D75_4167.JPG\n"
     ]
    },
    {
     "name": "stderr",
     "output_type": "stream",
     "text": [
      "Processing images:  34%|███▍      | 143/416 [03:57<06:24,  1.41s/it]"
     ]
    },
    {
     "name": "stdout",
     "output_type": "stream",
     "text": [
      "No faces detected in D75_4216.JPG\n"
     ]
    },
    {
     "name": "stderr",
     "output_type": "stream",
     "text": [
      "Processing images:  39%|███▉      | 164/416 [04:31<06:19,  1.51s/it]"
     ]
    },
    {
     "name": "stdout",
     "output_type": "stream",
     "text": [
      "No faces detected in D75_4219.JPG\n"
     ]
    },
    {
     "name": "stderr",
     "output_type": "stream",
     "text": [
      "Processing images:  51%|█████▏    | 214/416 [05:53<05:00,  1.49s/it]"
     ]
    },
    {
     "name": "stdout",
     "output_type": "stream",
     "text": [
      "No faces detected in D75_4169.JPG\n"
     ]
    },
    {
     "name": "stderr",
     "output_type": "stream",
     "text": [
      "Processing images:  52%|█████▏    | 217/416 [05:59<05:46,  1.74s/it]"
     ]
    },
    {
     "name": "stdout",
     "output_type": "stream",
     "text": [
      "No faces detected in D75_4220.JPG\n"
     ]
    },
    {
     "name": "stderr",
     "output_type": "stream",
     "text": [
      "Processing images:  54%|█████▍    | 224/416 [06:11<05:42,  1.78s/it]"
     ]
    },
    {
     "name": "stdout",
     "output_type": "stream",
     "text": [
      "No faces detected in D75_4218.JPG\n"
     ]
    },
    {
     "name": "stderr",
     "output_type": "stream",
     "text": [
      "Processing images:  62%|██████▏   | 256/416 [07:05<03:47,  1.42s/it]"
     ]
    },
    {
     "name": "stdout",
     "output_type": "stream",
     "text": [
      "No faces detected in D75_4221.JPG\n"
     ]
    },
    {
     "name": "stderr",
     "output_type": "stream",
     "text": [
      "Processing images:  67%|██████▋   | 278/416 [07:41<03:24,  1.48s/it]"
     ]
    },
    {
     "name": "stdout",
     "output_type": "stream",
     "text": [
      "No faces detected in D75_4170.JPG\n"
     ]
    },
    {
     "name": "stderr",
     "output_type": "stream",
     "text": [
      "Processing images:  69%|██████▉   | 288/416 [07:57<03:11,  1.49s/it]"
     ]
    },
    {
     "name": "stdout",
     "output_type": "stream",
     "text": [
      "No faces detected in D75_4217.JPG\n"
     ]
    },
    {
     "name": "stderr",
     "output_type": "stream",
     "text": [
      "Processing images:  84%|████████▍ | 350/416 [09:57<02:06,  1.91s/it]"
     ]
    },
    {
     "name": "stdout",
     "output_type": "stream",
     "text": [
      "No faces detected in D75_4047.JPG\n"
     ]
    },
    {
     "name": "stderr",
     "output_type": "stream",
     "text": [
      "Processing images:  89%|████████▉ | 371/416 [10:29<01:06,  1.48s/it]"
     ]
    },
    {
     "name": "stdout",
     "output_type": "stream",
     "text": [
      "No faces detected in 750_7415.JPG\n"
     ]
    },
    {
     "name": "stderr",
     "output_type": "stream",
     "text": [
      "Processing images:  99%|█████████▊| 410/416 [11:37<00:10,  1.73s/it]"
     ]
    },
    {
     "name": "stdout",
     "output_type": "stream",
     "text": [
      "No faces detected in D75_4048.JPG\n"
     ]
    },
    {
     "name": "stderr",
     "output_type": "stream",
     "text": [
      "Processing images: 100%|██████████| 416/416 [11:47<00:00,  1.70s/it]\n"
     ]
    }
   ],
   "source": [
    "SNAPS_DIR = \"/kaggle/input/batchsnaps-day-5\"\n",
    "FACES_SAVE_DIR = \"/kaggle/working/facesd5\"\n",
    "face_detect(SNAPS_DIR, FACES_SAVE_DIR)"
   ]
  },
  {
   "cell_type": "code",
   "execution_count": 7,
   "id": "502526cf",
   "metadata": {
    "execution": {
     "iopub.execute_input": "2024-10-23T17:29:52.522921Z",
     "iopub.status.busy": "2024-10-23T17:29:52.522554Z",
     "iopub.status.idle": "2024-10-23T17:29:55.082777Z",
     "shell.execute_reply": "2024-10-23T17:29:55.081786Z"
    },
    "papermill": {
     "duration": 2.681264,
     "end_time": "2024-10-23T17:29:55.085246",
     "exception": false,
     "start_time": "2024-10-23T17:29:52.403982",
     "status": "completed"
    },
    "tags": []
   },
   "outputs": [
    {
     "name": "stderr",
     "output_type": "stream",
     "text": [
      "Zipping: 100%|██████████| 59.8M/59.8M [00:02<00:00, 23.6MB/s]\n"
     ]
    }
   ],
   "source": [
    "import zipfile\n",
    "\n",
    "def zip_folder_with_progress(folder_path, output_zip):\n",
    "    total_size = sum(os.path.getsize(os.path.join(root, file))\n",
    "                     for root, dirs, files in os.walk(folder_path)\n",
    "                     for file in files)\n",
    "\n",
    "    with zipfile.ZipFile(output_zip, 'w', zipfile.ZIP_DEFLATED) as zipf:\n",
    "        with tqdm(total=total_size, unit='B', unit_scale=True, desc=\"Zipping\") as pbar:\n",
    "            for root, dirs, files in os.walk(folder_path):\n",
    "                for file in files:\n",
    "                    file_path = os.path.join(root, file)\n",
    "                    zipf.write(file_path, os.path.relpath(file_path, folder_path))\n",
    "                    pbar.update(os.path.getsize(file_path))\n",
    "\n",
    "folder_path = '/kaggle/working/facesd5'\n",
    "output_zip = '/kaggle/working/extractedfaces.zip'\n",
    "zip_folder_with_progress(folder_path, output_zip)\n"
   ]
  },
  {
   "cell_type": "code",
   "execution_count": null,
   "id": "19b1a1ac",
   "metadata": {
    "papermill": {
     "duration": 0.120515,
     "end_time": "2024-10-23T17:29:55.328481",
     "exception": false,
     "start_time": "2024-10-23T17:29:55.207966",
     "status": "completed"
    },
    "tags": []
   },
   "outputs": [],
   "source": []
  }
 ],
 "metadata": {
  "kaggle": {
   "accelerator": "none",
   "dataSources": [
    {
     "datasetId": 5934661,
     "sourceId": 9704017,
     "sourceType": "datasetVersion"
    }
   ],
   "dockerImageVersionId": 30787,
   "isGpuEnabled": false,
   "isInternetEnabled": true,
   "language": "python",
   "sourceType": "notebook"
  },
  "kernelspec": {
   "display_name": "Python 3",
   "language": "python",
   "name": "python3"
  },
  "language_info": {
   "codemirror_mode": {
    "name": "ipython",
    "version": 3
   },
   "file_extension": ".py",
   "mimetype": "text/x-python",
   "name": "python",
   "nbconvert_exporter": "python",
   "pygments_lexer": "ipython3",
   "version": "3.10.14"
  },
  "papermill": {
   "default_parameters": {},
   "duration": 866.687622,
   "end_time": "2024-10-23T17:29:56.669196",
   "environment_variables": {},
   "exception": null,
   "input_path": "__notebook__.ipynb",
   "output_path": "__notebook__.ipynb",
   "parameters": {},
   "start_time": "2024-10-23T17:15:29.981574",
   "version": "2.6.0"
  }
 },
 "nbformat": 4,
 "nbformat_minor": 5
}
