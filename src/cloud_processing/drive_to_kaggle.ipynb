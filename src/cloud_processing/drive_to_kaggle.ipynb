{
  "cells": [
    {
      "cell_type": "markdown",
      "metadata": {},
      "source": [
        "RUN THIS ON COLAB"
      ]
    },
    {
      "cell_type": "code",
      "execution_count": null,
      "metadata": {
        "colab": {
          "base_uri": "https://localhost:8080/"
        },
        "id": "NK20v34_ybdM",
        "outputId": "6c94fafc-5229-4ce4-f18d-3e92de6ec2c5"
      },
      "outputs": [
        {
          "name": "stdout",
          "output_type": "stream",
          "text": [
            "Requirement already satisfied: kaggle in /usr/local/lib/python3.10/dist-packages (1.6.17)\n",
            "Requirement already satisfied: six>=1.10 in /usr/local/lib/python3.10/dist-packages (from kaggle) (1.16.0)\n",
            "Requirement already satisfied: certifi>=2023.7.22 in /usr/local/lib/python3.10/dist-packages (from kaggle) (2024.8.30)\n",
            "Requirement already satisfied: python-dateutil in /usr/local/lib/python3.10/dist-packages (from kaggle) (2.8.2)\n",
            "Requirement already satisfied: requests in /usr/local/lib/python3.10/dist-packages (from kaggle) (2.32.3)\n",
            "Requirement already satisfied: tqdm in /usr/local/lib/python3.10/dist-packages (from kaggle) (4.66.5)\n",
            "Requirement already satisfied: python-slugify in /usr/local/lib/python3.10/dist-packages (from kaggle) (8.0.4)\n",
            "Requirement already satisfied: urllib3 in /usr/local/lib/python3.10/dist-packages (from kaggle) (2.2.3)\n",
            "Requirement already satisfied: bleach in /usr/local/lib/python3.10/dist-packages (from kaggle) (6.1.0)\n",
            "Requirement already satisfied: webencodings in /usr/local/lib/python3.10/dist-packages (from bleach->kaggle) (0.5.1)\n",
            "Requirement already satisfied: text-unidecode>=1.3 in /usr/local/lib/python3.10/dist-packages (from python-slugify->kaggle) (1.3)\n",
            "Requirement already satisfied: charset-normalizer<4,>=2 in /usr/local/lib/python3.10/dist-packages (from requests->kaggle) (3.4.0)\n",
            "Requirement already satisfied: idna<4,>=2.5 in /usr/local/lib/python3.10/dist-packages (from requests->kaggle) (3.10)\n"
          ]
        }
      ],
      "source": [
        "!pip install kaggle"
      ]
    },
    {
      "cell_type": "code",
      "execution_count": null,
      "metadata": {
        "id": "HOVvnJurxgfh"
      },
      "outputs": [],
      "source": [
        "import os\n",
        "import shutil\n",
        "from tqdm import tqdm"
      ]
    },
    {
      "cell_type": "code",
      "execution_count": null,
      "metadata": {
        "id": "mIMZ4kknysfx"
      },
      "outputs": [],
      "source": [
        "os.environ['KAGGLE_CONFIG_DIR'] = r'/content/drive/MyDrive/Colab Notebooks/snap-sorter'\n",
        "os.makedirs('/content/images/', exist_ok=True)\n",
        "os.makedirs('/content/dataa/', exist_ok=True)"
      ]
    },
    {
      "cell_type": "code",
      "execution_count": null,
      "metadata": {
        "colab": {
          "base_uri": "https://localhost:8080/"
        },
        "id": "3UH1xDDXw8Rh",
        "outputId": "fc23daec-3719-4da6-f669-aa41d7e38d1b"
      },
      "outputs": [
        {
          "name": "stderr",
          "output_type": "stream",
          "text": [
            "Copying files: 100%|██████████| 416/416 [03:11<00:00,  2.17file/s]"
          ]
        },
        {
          "name": "stdout",
          "output_type": "stream",
          "text": [
            "All .jpg files copied successfully.\n"
          ]
        },
        {
          "name": "stderr",
          "output_type": "stream",
          "text": [
            "\n"
          ]
        }
      ],
      "source": [
        "source_dir = '/content/drive/MyDrive/Colab Notebooks/snap-sorter/Batchsnaps’24/Day 5 (cosplay)'\n",
        "destination_dir = '/content/images/'\n",
        "\n",
        "files = []\n",
        "\n",
        "for dirpath, dirnames, filenames in os.walk(source_dir):\n",
        "    for filename in filenames:\n",
        "        if filename.lower().endswith('.jpg'):\n",
        "            full_file_name = os.path.join(dirpath, filename)\n",
        "            if os.path.isfile(full_file_name):\n",
        "                files.append(full_file_name)\n",
        "\n",
        "for file_name in tqdm(files, desc=\"Copying files\", unit=\"file\"):\n",
        "    destination_file_path = os.path.join(destination_dir, os.path.basename(file_name))\n",
        "    shutil.copy(file_name, destination_file_path)\n",
        "\n",
        "print(\"All .jpg files copied successfully.\")"
      ]
    },
    {
      "cell_type": "code",
      "execution_count": null,
      "metadata": {
        "colab": {
          "base_uri": "https://localhost:8080/"
        },
        "id": "aB0InELB9k-G",
        "outputId": "494ced8f-6ed5-4d16-db2a-289d1656b6be"
      },
      "outputs": [
        {
          "name": "stdout",
          "output_type": "stream",
          "text": [
            "Total of 416\n"
          ]
        }
      ],
      "source": [
        "print(f\"Total of {len(os.listdir('/content/images/'))}\")"
      ]
    },
    {
      "cell_type": "code",
      "execution_count": null,
      "metadata": {
        "colab": {
          "base_uri": "https://localhost:8080/"
        },
        "id": "ygE1W6a_z_Ag",
        "outputId": "3dbde07e-6a36-4c60-a46c-660f5ed9033d"
      },
      "outputs": [
        {
          "name": "stderr",
          "output_type": "stream",
          "text": [
            "Zipping: 100%|██████████| 5.54G/5.54G [05:52<00:00, 15.7MB/s]\n"
          ]
        }
      ],
      "source": [
        "import zipfile\n",
        "\n",
        "def zip_folder_with_progress(folder_path, output_zip):\n",
        "    total_size = sum(os.path.getsize(os.path.join(root, file))\n",
        "                     for root, dirs, files in os.walk(folder_path)\n",
        "                     for file in files)\n",
        "\n",
        "    with zipfile.ZipFile(output_zip, 'w', zipfile.ZIP_DEFLATED) as zipf:\n",
        "        with tqdm(total=total_size, unit='B', unit_scale=True, desc=\"Zipping\") as pbar:\n",
        "            for root, dirs, files in os.walk(folder_path):\n",
        "                for file in files:\n",
        "                    file_path = os.path.join(root, file)\n",
        "                    zipf.write(file_path, os.path.relpath(file_path, folder_path))\n",
        "                    pbar.update(os.path.getsize(file_path))\n",
        "\n",
        "folder_path = '/content/images'\n",
        "output_zip = '/content/output.zip'\n",
        "zip_folder_with_progress(folder_path, output_zip)\n"
      ]
    },
    {
      "cell_type": "code",
      "execution_count": null,
      "metadata": {
        "colab": {
          "base_uri": "https://localhost:8080/",
          "height": 36
        },
        "id": "5N5sp2LsOaJs",
        "outputId": "e22f84cf-097c-4c59-e829-1d368ffcab2b"
      },
      "outputs": [
        {
          "data": {
            "application/vnd.google.colaboratory.intrinsic+json": {
              "type": "string"
            },
            "text/plain": [
              "'/content/dataa/output.zip'"
            ]
          },
          "execution_count": 9,
          "metadata": {},
          "output_type": "execute_result"
        }
      ],
      "source": [
        "shutil.move('/content/output.zip', '/content/dataa/output.zip')"
      ]
    },
    {
      "cell_type": "code",
      "execution_count": null,
      "metadata": {
        "colab": {
          "base_uri": "https://localhost:8080/"
        },
        "id": "YaWQFqZXzc0Y",
        "outputId": "833be903-04fa-4b09-f390-745ea0ccd0dc"
      },
      "outputs": [
        {
          "name": "stdout",
          "output_type": "stream",
          "text": [
            "Starting upload for file output.zip\n",
            "100% 5.03G/5.03G [00:46<00:00, 116MB/s]\n",
            "Upload successful: output.zip (5GB)\n",
            "Your private Dataset is being created. Please check progress at https://www.kaggle.com/datasets/beepoolbehera/batchsnaps-day-5\n"
          ]
        }
      ],
      "source": [
        "!kaggle datasets create -p /content/dataa --dir-mode skip"
      ]
    },
    {
      "cell_type": "code",
      "execution_count": null,
      "metadata": {
        "id": "H4Qk0H5rf1JB"
      },
      "outputs": [],
      "source": []
    }
  ],
  "metadata": {
    "colab": {
      "provenance": []
    },
    "kernelspec": {
      "display_name": "Python 3",
      "name": "python3"
    },
    "language_info": {
      "name": "python"
    }
  },
  "nbformat": 4,
  "nbformat_minor": 0
}
