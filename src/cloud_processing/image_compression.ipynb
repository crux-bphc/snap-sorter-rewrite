{
  "cells": [
    {
      "cell_type": "code",
      "execution_count": null,
      "metadata": {
        "colab": {
          "base_uri": "https://localhost:8080/"
        },
        "id": "8kLTpxreN3k1",
        "outputId": "54651636-f0bd-40e2-aa27-78eb1e6c0d0d"
      },
      "outputs": [
        {
          "output_type": "stream",
          "name": "stdout",
          "text": [
            "51\n"
          ]
        }
      ],
      "source": [
        "from io import BytesIO\n",
        "import os\n",
        "from PIL import Image, ExifTags\n",
        "from tqdm import tqdm\n",
        "\n",
        "source_dir = ('/content/drive/MyDrive/Colab Notebooks/snap-sorter/Batchsnaps’24/Day 2')\n",
        "files = []\n",
        "\n",
        "for dirpath, dirnames, filenames in os.walk(source_dir):\n",
        "    for filename in filenames:\n",
        "        if filename.lower().endswith('.jpg'):\n",
        "            full_file_name = os.path.join(dirpath, filename)\n",
        "            if os.path.isfile(full_file_name):\n",
        "                files.append(full_file_name)\n",
        "print(len(files))"
      ]
    },
    {
      "cell_type": "code",
      "execution_count": null,
      "metadata": {
        "colab": {
          "base_uri": "https://localhost:8080/"
        },
        "id": "mGWlYtUXONW8",
        "outputId": "cd3e0fc3-5812-4ef8-ac9d-923a005e9f71"
      },
      "outputs": [
        {
          "output_type": "stream",
          "name": "stderr",
          "text": [
            "Compressing Images: 100%|██████████| 51/51 [00:32<00:00,  1.55it/s]\n"
          ]
        }
      ],
      "source": [
        "from concurrent.futures import ThreadPoolExecutor\n",
        "\n",
        "output_dir = \"/content/facess\"\n",
        "os.makedirs(output_dir, exist_ok=True)\n",
        "\n",
        "def compress_and_save_image(image):\n",
        "    try:\n",
        "        img = Image.open(image)\n",
        "        exif_data = img.info.get(\"exif\")\n",
        "        buffer = BytesIO()\n",
        "        img.save(buffer, \"JPEG\", quality=10, exif=exif_data)\n",
        "        output_path = os.path.join(output_dir, os.path.splitext(os.path.basename(image))[0] + \".JPG\")\n",
        "        with open(output_path, \"wb\") as handle:\n",
        "            handle.write(buffer.getbuffer())\n",
        "\n",
        "    except Exception as e:\n",
        "        print(f\"Error compressing {image}: {e}\")\n",
        "with ThreadPoolExecutor() as executor:\n",
        "    list(tqdm(executor.map(compress_and_save_image, files), desc=\"Compressing Images\", total=len(files)))\n"
      ]
    },
    {
      "cell_type": "code",
      "execution_count": null,
      "metadata": {
        "id": "q3dOPh0vOrXH",
        "colab": {
          "base_uri": "https://localhost:8080/"
        },
        "outputId": "9ad7f4ce-2fca-4e13-c3e5-76d281ae1815"
      },
      "outputs": [
        {
          "output_type": "stream",
          "name": "stderr",
          "text": [
            "Zipping: 100%|██████████| 39.4M/39.4M [00:03<00:00, 10.6MB/s]\n"
          ]
        }
      ],
      "source": [
        "import zipfile\n",
        "\n",
        "def zip_folder_with_progress(folder_path, output_zip):\n",
        "    total_size = sum(os.path.getsize(os.path.join(root, file))\n",
        "                     for root, dirs, files in os.walk(folder_path)\n",
        "                     for file in files)\n",
        "\n",
        "    with zipfile.ZipFile(output_zip, 'w', zipfile.ZIP_DEFLATED) as zipf:\n",
        "        with tqdm(total=total_size, unit='B', unit_scale=True, desc=\"Zipping\") as pbar:\n",
        "            for root, dirs, files in os.walk(folder_path):\n",
        "                for file in files:\n",
        "                    file_path = os.path.join(root, file)\n",
        "                    zipf.write(file_path, os.path.relpath(file_path, folder_path))\n",
        "                    pbar.update(os.path.getsize(file_path))\n",
        "\n",
        "folder_path = '/content/facess'\n",
        "output_zip = '/content/output.zip'\n",
        "zip_folder_with_progress(folder_path, output_zip)"
      ]
    },
    {
      "cell_type": "code",
      "execution_count": null,
      "metadata": {
        "id": "Vh4a57roQWoq"
      },
      "outputs": [],
      "source": []
    }
  ],
  "metadata": {
    "colab": {
      "provenance": []
    },
    "kernelspec": {
      "display_name": "Python 3",
      "name": "python3"
    },
    "language_info": {
      "name": "python"
    }
  },
  "nbformat": 4,
  "nbformat_minor": 0
}