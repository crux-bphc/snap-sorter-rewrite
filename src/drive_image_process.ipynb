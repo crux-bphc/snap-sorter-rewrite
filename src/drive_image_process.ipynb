{
 "cells": [
  {
   "cell_type": "markdown",
   "metadata": {},
   "source": [
    "NOTE: This file needs to be run on Google Colaboratory with an account that has access to the Batchsnaps Drive\n",
    "Directory Structure:\n",
    "\n",
    "```\n",
    "snap-sorter\n",
    "    |\n",
    "    |---drive_image_process.ipynb\n",
    "    |\n",
    "    |---Batchsnaps Folder Shortcut\n",
    "    |\n",
    "    |---imagedata.csv\n",
    "```"
   ]
  },
  {
   "cell_type": "markdown",
   "metadata": {},
   "source": [
    "!pip install facenet-pytorch"
   ]
  },
  {
   "cell_type": "code",
   "execution_count": null,
   "metadata": {},
   "outputs": [],
   "source": [
    "import os\n",
    "import cv2\n",
    "from tqdm import tqdm\n",
    "import shutil\n",
    "import torch"
   ]
  },
  {
   "cell_type": "code",
   "execution_count": null,
   "metadata": {},
   "outputs": [],
   "source": [
    "from facenet_pytorch import MTCNN"
   ]
  },
  {
   "cell_type": "code",
   "execution_count": null,
   "metadata": {},
   "outputs": [],
   "source": [
    "rt = \"/content/drive/MyDrive/Colab Notebooks/snap-sorter/Batchsnaps’24/Day 2\"\n",
    "folders = os.listdir(rt)\n",
    "total = 0\n",
    "for x in folders:\n",
    "  total += len(os.listdir(os.path.join(rt, x)))\n",
    "\n",
    "print(total)"
   ]
  },
  {
   "cell_type": "markdown",
   "metadata": {},
   "source": [
    "This next bit is to create metadata for images and its IDs"
   ]
  },
  {
   "cell_type": "code",
   "execution_count": null,
   "metadata": {},
   "outputs": [],
   "source": [
    "!apt install xattr &>log"
   ]
  },
  {
   "cell_type": "code",
   "execution_count": null,
   "metadata": {},
   "outputs": [],
   "source": [
    "from subprocess import getoutput\n",
    "import pandas as pd\n",
    "\n",
    "DAYPATH = \"/content/drive/MyDrive/Colab Notebooks/snap-sorter/Batchsnaps’24/Day 3\"\n",
    "IMAGE_DATA_PATH = \"/content/drive/MyDrive/Colab Notebooks/snap-sorter/imagedata.csv\"\n",
    "image_paths = []\n",
    "\n",
    "for dirpath, dirnames, filenames in os.walk(DAYPATH):\n",
    "  for filename in filenames:\n",
    "    if filename.lower().endswith('.jpg'):\n",
    "      full_path = os.path.join(dirpath, filename)\n",
    "      image_paths.append(full_path)\n",
    "\n",
    "image_data = []\n",
    "print(\"Gathering image file IDs\")\n",
    "for image in tqdm(image_paths, desc=\"Retrieving Image IDs\"):\n",
    "    image_id = getoutput(f\"xattr -p 'user.drive.id' '{image}'\")\n",
    "    image_data.append({'image_name': os.path.basename(image), 'image_id': image_id})\n",
    "\n",
    "print(\"\\nSaving data to csv\")\n",
    "new_df = pd.DataFrame(image_data)\n",
    "\n",
    "if os.path.exists(IMAGE_DATA_PATH):\n",
    "    old_df = pd.read_csv(IMAGE_DATA_PATH)\n",
    "    combined_df = pd.concat([old_df, new_df], ignore_index=True)\n",
    "else:\n",
    "    combined_df = new_df\n",
    "\n",
    "combined_df.to_csv(IMAGE_DATA_PATH, index=False)"
   ]
  },
  {
   "cell_type": "code",
   "execution_count": null,
   "metadata": {},
   "outputs": [],
   "source": [
    "os.makedirs('/content/images/', exist_ok=True)\n",
    "os.makedirs('/content/faces/', exist_ok=True)\n",
    "\n",
    "source_dir = '/content/drive/MyDrive/Colab Notebooks/snap-sorter/Batchsnaps’24/Day 2/24-70'\n",
    "destination_dir = '/content/images/'\n",
    "\n",
    "files = os.listdir(source_dir)\n",
    "\n",
    "for file_name in tqdm(files, desc=\"Copying files\", unit=\"file\"):\n",
    "    full_file_name = os.path.join(source_dir, file_name)\n",
    "    if os.path.isfile(full_file_name):\n",
    "        shutil.copy(full_file_name, destination_dir)"
   ]
  },
  {
   "cell_type": "code",
   "execution_count": null,
   "metadata": {},
   "outputs": [],
   "source": [
    "class FaceDetector:\n",
    "    def __init__(self):\n",
    "        print(\"FaceDetector object initializing\")\n",
    "        self.device = torch.device('cuda' if torch.cuda.is_available() else 'cpu')\n",
    "        self.detector = MTCNN(keep_all=True, device=self.device)\n",
    "        print(\"FaceDetector initialized successfully\")\n",
    "\n",
    "    def detect_all_faces_and_save(self, directory, save_directory):\n",
    "        '''\n",
    "        Detects all faces in images in a given directory\n",
    "\n",
    "        Args:\n",
    "            directory: input directory of images\n",
    "            save_directory: directory where faces will be saved\n",
    "        '''\n",
    "        images = os.listdir(directory)\n",
    "        print(f\"Found {len(images)} images in {directory}\")\n",
    "\n",
    "        os.makedirs(save_directory, exist_ok=True)\n",
    "\n",
    "        for image in tqdm(images, desc=\"Processing images\"):\n",
    "            if not image.lower().endswith('.jpg'):\n",
    "                  tqdm.write(f\"Skipping non-jpg file: {image}\")\n",
    "                  continue\n",
    "            img_path = os.path.join(directory, image)\n",
    "            img = cv2.imread(img_path)\n",
    "\n",
    "            if img is None:\n",
    "                tqdm.write(f\"Failed to read {image}. Skipping.\")\n",
    "                continue\n",
    "            img_rgb = cv2.cvtColor(img, cv2.COLOR_BGR2RGB)\n",
    "\n",
    "            boxes, probs = self.detector.detect(img_rgb)\n",
    "\n",
    "            if boxes is None:\n",
    "                tqdm.write(f\"No faces detected in {image}\")\n",
    "                continue\n",
    "\n",
    "            tqdm.write(f\"Detected {len(boxes)} faces in {image}\")\n",
    "\n",
    "            #save faces with confidence > 0.97\n",
    "            for i, (box, prob) in enumerate(zip(boxes, probs)):\n",
    "                if prob > 0.97:\n",
    "                    x1, y1, x2, y2 = [int(b) for b in box]\n",
    "                    face_img = img[y1:y2, x1:x2]\n",
    "                    if face_img.size > 0:\n",
    "                      face_filename = f\"{image}_face{i}_{prob:.2f}.jpg\"\n",
    "                      cv2.imwrite(os.path.join(save_directory, face_filename), face_img)\n",
    "\n",
    "                      tqdm.write(f\"Face {i} in {image} with confidence {prob:.2f} saved successfully\")\n",
    "\n",
    "def face_detect(images_dir, save_face_dir):\n",
    "    face_detector = FaceDetector()\n",
    "    face_detector.detect_all_faces_and_save(images_dir, save_face_dir)"
   ]
  },
  {
   "cell_type": "code",
   "execution_count": null,
   "metadata": {},
   "outputs": [],
   "source": [
    "SNAPS_DIR = \"/content/images/\"\n",
    "FACES_SAVE_DIR = \"/content/faces\"\n",
    "face_detect(SNAPS_DIR, FACES_SAVE_DIR)"
   ]
  },
  {
   "cell_type": "code",
   "execution_count": null,
   "metadata": {},
   "outputs": [],
   "source": [
    "files = os.listdir(FACES_SAVE_DIR)\n",
    "\n",
    "for file_name in tqdm(files, desc=\"Copying files\", unit=\"file\"):\n",
    "    full_file_name = os.path.join(FACES_SAVE_DIR, file_name)\n",
    "    if os.path.isfile(full_file_name):\n",
    "        shutil.copy(full_file_name, '/content/drive/MyDrive/Colab Notebooks/snap-sorter/faces')"
   ]
  }
 ],
 "metadata": {
  "kernelspec": {
   "display_name": "faceclusterer",
   "language": "python",
   "name": "python3"
  },
  "language_info": {
   "name": "python",
   "version": "3.10.10"
  }
 },
 "nbformat": 4,
 "nbformat_minor": 2
}
